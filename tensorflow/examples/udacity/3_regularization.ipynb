{
 "cells": [
  {
   "cell_type": "markdown",
   "metadata": {
    "colab_type": "text",
    "id": "kR-4eNdK6lYS"
   },
   "source": [
    "Deep Learning\n",
    "=============\n",
    "\n",
    "Assignment 3\n",
    "------------\n",
    "\n",
    "Previously in `2_fullyconnected.ipynb`, you trained a logistic regression and a neural network model.\n",
    "\n",
    "The goal of this assignment is to explore regularization techniques."
   ]
  },
  {
   "cell_type": "code",
   "execution_count": 2,
   "metadata": {
    "cellView": "both",
    "colab": {
     "autoexec": {
      "startup": false,
      "wait_interval": 0
     }
    },
    "colab_type": "code",
    "collapsed": true,
    "id": "JLpLa8Jt7Vu4"
   },
   "outputs": [],
   "source": [
    "# These are all the modules we'll be using later. Make sure you can import them\n",
    "# before proceeding further.\n",
    "from __future__ import print_function\n",
    "import numpy as np\n",
    "import tensorflow as tf\n",
    "from six.moves import cPickle as pickle\n",
    "import matplotlib.pyplot as plt\n",
    "import time"
   ]
  },
  {
   "cell_type": "markdown",
   "metadata": {
    "colab_type": "text",
    "id": "1HrCK6e17WzV"
   },
   "source": [
    "First reload the data we generated in `1_notmnist.ipynb`."
   ]
  },
  {
   "cell_type": "code",
   "execution_count": 3,
   "metadata": {
    "cellView": "both",
    "colab": {
     "autoexec": {
      "startup": false,
      "wait_interval": 0
     },
     "output_extras": [
      {
       "item_id": 1
      }
     ]
    },
    "colab_type": "code",
    "collapsed": false,
    "executionInfo": {
     "elapsed": 11777,
     "status": "ok",
     "timestamp": 1449849322348,
     "user": {
      "color": "",
      "displayName": "",
      "isAnonymous": false,
      "isMe": true,
      "permissionId": "",
      "photoUrl": "",
      "sessionId": "0",
      "userId": ""
     },
     "user_tz": 480
    },
    "id": "y3-cj1bpmuxc",
    "outputId": "e03576f1-ebbe-4838-c388-f1777bcc9873"
   },
   "outputs": [
    {
     "name": "stdout",
     "output_type": "stream",
     "text": [
      "Training set (200000, 28, 28) (200000,)\n",
      "Validation set (10000, 28, 28) (10000,)\n",
      "Test set (10000, 28, 28) (10000,)\n"
     ]
    }
   ],
   "source": [
    "pickle_file = 'notMNIST.pickle'\n",
    "\n",
    "with open(pickle_file, 'rb') as f:\n",
    "  save = pickle.load(f)\n",
    "  train_dataset = save['train_dataset']\n",
    "  train_labels = save['train_labels']\n",
    "  valid_dataset = save['valid_dataset']\n",
    "  valid_labels = save['valid_labels']\n",
    "  test_dataset = save['test_dataset']\n",
    "  test_labels = save['test_labels']\n",
    "  del save  # hint to help gc free up memory\n",
    "  print('Training set', train_dataset.shape, train_labels.shape)\n",
    "  print('Validation set', valid_dataset.shape, valid_labels.shape)\n",
    "  print('Test set', test_dataset.shape, test_labels.shape)"
   ]
  },
  {
   "cell_type": "markdown",
   "metadata": {
    "colab_type": "text",
    "id": "L7aHrm6nGDMB"
   },
   "source": [
    "Reformat into a shape that's more adapted to the models we're going to train:\n",
    "- data as a flat matrix,\n",
    "- labels as float 1-hot encodings."
   ]
  },
  {
   "cell_type": "code",
   "execution_count": 4,
   "metadata": {
    "cellView": "both",
    "colab": {
     "autoexec": {
      "startup": false,
      "wait_interval": 0
     },
     "output_extras": [
      {
       "item_id": 1
      }
     ]
    },
    "colab_type": "code",
    "collapsed": false,
    "executionInfo": {
     "elapsed": 11728,
     "status": "ok",
     "timestamp": 1449849322356,
     "user": {
      "color": "",
      "displayName": "",
      "isAnonymous": false,
      "isMe": true,
      "permissionId": "",
      "photoUrl": "",
      "sessionId": "0",
      "userId": ""
     },
     "user_tz": 480
    },
    "id": "IRSyYiIIGIzS",
    "outputId": "3f8996ee-3574-4f44-c953-5c8a04636582"
   },
   "outputs": [
    {
     "name": "stdout",
     "output_type": "stream",
     "text": [
      "Training set (200000, 784) (200000, 10)\n",
      "Validation set (10000, 784) (10000, 10)\n",
      "Test set (10000, 784) (10000, 10)\n"
     ]
    }
   ],
   "source": [
    "image_size = 28\n",
    "num_labels = 10\n",
    "batch_size = 128\n",
    "num_steps = 3001\n",
    "\n",
    "def reformat(dataset, labels):\n",
    "  dataset = dataset.reshape((-1, image_size * image_size)).astype(np.float32)\n",
    "  # Map 1 to [0.0, 1.0, 0.0 ...], 2 to [0.0, 0.0, 1.0 ...]\n",
    "  labels = (np.arange(num_labels) == labels[:,None]).astype(np.float32)\n",
    "  return dataset, labels\n",
    "train_dataset, train_labels = reformat(train_dataset, train_labels)\n",
    "valid_dataset, valid_labels = reformat(valid_dataset, valid_labels)\n",
    "test_dataset, test_labels = reformat(test_dataset, test_labels)\n",
    "print('Training set', train_dataset.shape, train_labels.shape)\n",
    "print('Validation set', valid_dataset.shape, valid_labels.shape)\n",
    "print('Test set', test_dataset.shape, test_labels.shape)"
   ]
  },
  {
   "cell_type": "code",
   "execution_count": 5,
   "metadata": {
    "cellView": "both",
    "colab": {
     "autoexec": {
      "startup": false,
      "wait_interval": 0
     }
    },
    "colab_type": "code",
    "collapsed": true,
    "id": "RajPLaL_ZW6w"
   },
   "outputs": [],
   "source": [
    "def accuracy(predictions, labels):\n",
    "  return (100.0 * np.sum(np.argmax(predictions, 1) == np.argmax(labels, 1))\n",
    "          / predictions.shape[0])"
   ]
  },
  {
   "cell_type": "markdown",
   "metadata": {
    "colab_type": "text",
    "id": "sgLbUAQ1CW-1"
   },
   "source": [
    "---\n",
    "Problem 1\n",
    "---------\n",
    "\n",
    "Introduce and tune L2 regularization for both logistic and neural network models. Remember that L2 amounts to adding a penalty on the norm of the weights to the loss. In TensorFlow, you can compute the L2 loss for a tensor `t` using `nn.l2_loss(t)`. The right amount of regularization should improve your validation / test accuracy.\n",
    "\n",
    "---"
   ]
  },
  {
   "cell_type": "code",
   "execution_count": 6,
   "metadata": {
    "collapsed": true
   },
   "outputs": [],
   "source": [
    "def run_sgdlr(batch_size, num_steps, learning_rate=0.5, beta=0.1, verbose=False):\n",
    "    graph = tf.Graph()\n",
    "    with graph.as_default():\n",
    "        tf.set_random_seed(1)\n",
    "        # Input data. For the training data, we use a placeholder that will be fed\n",
    "        # at run time with a training minibatch.\n",
    "        tf_train_dataset = tf.placeholder(tf.float32,\n",
    "                                            shape=(batch_size, image_size * image_size))\n",
    "        tf_train_labels = tf.placeholder(tf.float32, shape=(batch_size, num_labels))\n",
    "        tf_valid_dataset = tf.constant(valid_dataset)\n",
    "        tf_test_dataset = tf.constant(test_dataset)\n",
    "\n",
    "        # Variables.\n",
    "        weights = tf.Variable(\n",
    "            tf.truncated_normal([image_size * image_size, num_labels]))\n",
    "        biases = tf.Variable(tf.zeros([num_labels]))\n",
    "\n",
    "        # Training computation.\n",
    "        logits = tf.matmul(tf_train_dataset, weights) + biases\n",
    "        loss = tf.reduce_mean(\n",
    "            tf.nn.softmax_cross_entropy_with_logits(labels=tf_train_labels, logits=logits)) + \\\n",
    "            0.5 * beta * tf.nn.l2_loss(weights)\n",
    "\n",
    "        # Optimizer.\n",
    "        optimizer = tf.train.GradientDescentOptimizer(learning_rate).minimize(loss)\n",
    "\n",
    "        # Predictions for the training, validation, and test data.\n",
    "        train_prediction = tf.nn.softmax(logits)\n",
    "        valid_prediction = tf.nn.softmax(\n",
    "            tf.matmul(tf_valid_dataset, weights) + biases)\n",
    "        test_prediction = tf.nn.softmax(tf.matmul(tf_test_dataset, weights) + biases)\n",
    "        \n",
    "    with tf.Session(graph=graph) as session:\n",
    "      tf.global_variables_initializer().run()\n",
    "      for step in range(num_steps):\n",
    "        # Pick an offset within the training data, which has been randomized.\n",
    "        # Note: we could use better randomization across epochs.\n",
    "        offset = (step * batch_size) % (train_labels.shape[0] - batch_size)\n",
    "        # Generate a minibatch.\n",
    "        batch_data = train_dataset[offset:(offset + batch_size), :]\n",
    "        batch_labels = train_labels[offset:(offset + batch_size), :]\n",
    "        # Prepare a dictionary telling the session where to feed the minibatch.\n",
    "        # The key of the dictionary is the placeholder node of the graph to be fed,\n",
    "        # and the value is the numpy array to feed to it.\n",
    "        feed_dict = {tf_train_dataset : batch_data, tf_train_labels : batch_labels}\n",
    "        _, l, predictions = session.run(\n",
    "          [optimizer, loss, train_prediction], feed_dict=feed_dict)\n",
    "        if (step % 500 == 0 and verbose == True):\n",
    "          print(\"Minibatch loss at step %d: %f\" % (step, l))\n",
    "          print(\"Minibatch accuracy: %.1f%%\" % accuracy(predictions, batch_labels))\n",
    "          print(\"Validation accuracy: %.1f%%\" % accuracy(\n",
    "            valid_prediction.eval(), valid_labels))\n",
    "      test_accuracy = accuracy(test_prediction.eval(), test_labels)\n",
    "      if verbose == True:\n",
    "          print(\"Test accuracy: %.1f%%\" % test_accuracy)\n",
    "      return test_accuracy\n",
    "      "
   ]
  },
  {
   "cell_type": "code",
   "execution_count": 7,
   "metadata": {
    "collapsed": false
   },
   "outputs": [],
   "source": [
    "def run_nn(batch_size, num_steps, train_x, train_y,\n",
    "           learning_rate=.1, beta=.1, verbose=False):\n",
    "    hidden_nodes = 1024\n",
    "\n",
    "    def weight_variable(shape):\n",
    "      initial = tf.truncated_normal(shape)\n",
    "      return tf.Variable(initial)\n",
    "\n",
    "    def bias_variable(shape):\n",
    "      initial = tf.zeros(shape)\n",
    "      return tf.Variable(initial)\n",
    "\n",
    "    def get_logits(x, w1, b1, w2, b2):\n",
    "      relu = tf.nn.relu(tf.matmul(x, w1) + b1)\n",
    "      return (tf.matmul(relu, w2) + b2)\n",
    "\n",
    "    graph = tf.Graph()\n",
    "    with graph.as_default():\n",
    "      tf.set_random_seed(1)\n",
    "      # Input data. For the training data, we use a placeholder that will be fed\n",
    "      # at run time with a training minibatch.\n",
    "      tf_train_dataset = tf.placeholder(tf.float32,\n",
    "                                        shape=(batch_size, image_size * image_size))\n",
    "      tf_train_labels = tf.placeholder(tf.float32, shape=(batch_size, num_labels))\n",
    "      tf_valid_dataset = tf.constant(valid_dataset)\n",
    "      tf_test_dataset = tf.constant(test_dataset)\n",
    "\n",
    "      # Variables.\n",
    "      weights_1 = weight_variable([image_size * image_size, hidden_nodes])\n",
    "      biases_1 = bias_variable([hidden_nodes])\n",
    "\n",
    "      weights_2 = weight_variable([hidden_nodes, num_labels])\n",
    "      biases_2 = bias_variable([num_labels])\n",
    "\n",
    "      # Training computation.\n",
    "      logits = get_logits(tf_train_dataset, weights_1, biases_1, weights_2, biases_2)\n",
    "      loss = tf.reduce_mean(\n",
    "        tf.nn.softmax_cross_entropy_with_logits(labels=tf_train_labels, logits=logits)) + \\\n",
    "            0.5 * beta * (tf.nn.l2_loss(weights_1) + tf.nn.l2_loss(weights_2))\n",
    "\n",
    "      # Optimizer.\n",
    "      optimizer = tf.train.GradientDescentOptimizer(learning_rate).minimize(loss)\n",
    "\n",
    "      # Predictions for the training, validation, and test data.\n",
    "      train_prediction = tf.nn.softmax(logits)\n",
    "      valid_prediction = tf.nn.softmax(get_logits(tf_valid_dataset, weights_1, biases_1, weights_2, biases_2))\n",
    "      test_prediction = tf.nn.softmax(get_logits(tf_test_dataset, weights_1, biases_1, weights_2, biases_2))\n",
    "\n",
    "    with tf.Session(graph=graph) as session:\n",
    "      tf.set_random_seed(1)\n",
    "      tf.global_variables_initializer().run()\n",
    "      for step in range(num_steps):\n",
    "        # Pick an offset within the training data, which has been randomized.\n",
    "        # Note: we could use better randomization across epochs.\n",
    "        offset = (step * batch_size) % (train_y.shape[0] - batch_size)\n",
    "        # Generate a minibatch.\n",
    "        batch_data = train_x[offset:(offset + batch_size), :]\n",
    "        batch_labels = train_y[offset:(offset + batch_size), :]\n",
    "        # Prepare a dictionary telling the session where to feed the minibatch.\n",
    "        # The key of the dictionary is the placeholder node of the graph to be fed,\n",
    "        # and the value is the numpy array to feed to it.\n",
    "        feed_dict = {tf_train_dataset : batch_data, tf_train_labels : batch_labels}\n",
    "        _, l, predictions = session.run(\n",
    "          [optimizer, loss, train_prediction], feed_dict=feed_dict)\n",
    "        if (step % 500 == 0 and verbose):\n",
    "          print(\"Minibatch loss at step %d: %f\" % (step, l))\n",
    "          print(\"Minibatch accuracy: %.1f%%\" % accuracy(predictions, batch_labels))\n",
    "          print(\"Validation accuracy: %.1f%%\" % accuracy(\n",
    "            valid_prediction.eval(), valid_labels))\n",
    "        \n",
    "      acc = accuracy(test_prediction.eval(), test_labels)\n",
    "      if verbose:\n",
    "          print(\"Test accuracy: %.1f%%\" % acc)\n",
    "        \n",
    "    return acc"
   ]
  },
  {
   "cell_type": "code",
   "execution_count": 7,
   "metadata": {
    "collapsed": false
   },
   "outputs": [
    {
     "name": "stdout",
     "output_type": "stream",
     "text": [
      "SGD Logistic Regression\n",
      "No L2 Regularization: 86.3%\n",
      "With L2 Regularization: 88.9%\n",
      "Elapsed 8.355s\n"
     ]
    }
   ],
   "source": [
    "start = time.time()\n",
    "print(\"SGD Logistic Regression\")\n",
    "print(\"No L2 Regularization: %.1f%%\" % run_sgdlr(batch_size, num_steps, beta=0, verbose=False))\n",
    "print(\"With L2 Regularization: %.1f%%\" % run_sgdlr(batch_size, num_steps, beta=0.01, verbose=False))\n",
    "print(\"Elapsed %.3fs\" % (time.time() - start))"
   ]
  },
  {
   "cell_type": "code",
   "execution_count": 8,
   "metadata": {
    "collapsed": false
   },
   "outputs": [
    {
     "name": "stdout",
     "output_type": "stream",
     "text": [
      "1 hidden-layer neural network\n",
      "No L2 Regularization: 90.6%\n",
      "With L2 Regularization: 92.2%\n",
      "Elapsed 143.045s\n"
     ]
    }
   ],
   "source": [
    "start = time.time()\n",
    "print(\"1 hidden-layer neural network\")\n",
    "print(\"No L2 Regularization: %.1f%%\" % run_nn(batch_size, num_steps, train_dataset, train_labels, beta=0))\n",
    "print(\"With L2 Regularization: %.1f%%\" % run_nn(batch_size, num_steps, train_dataset, train_labels, beta=0.01))    \n",
    "print(\"Elapsed %.3fs\" % (time.time() - start))"
   ]
  },
  {
   "cell_type": "markdown",
   "metadata": {
    "colab_type": "text",
    "id": "na8xX2yHZzNF"
   },
   "source": [
    "---\n",
    "Problem 2\n",
    "---------\n",
    "Let's demonstrate an extreme case of overfitting. Restrict your training data to just a few batches. What happens?\n",
    "\n",
    "---"
   ]
  },
  {
   "cell_type": "code",
   "execution_count": 8,
   "metadata": {
    "collapsed": false
   },
   "outputs": [
    {
     "name": "stdout",
     "output_type": "stream",
     "text": [
      "1 hidden-layer neural network (reduced training data -- overfit example)\n",
      "Minibatch loss at step 0: 1895.041748\n",
      "Minibatch accuracy: 7.0%\n",
      "Validation accuracy: 21.9%\n"
     ]
    },
    {
     "ename": "KeyboardInterrupt",
     "evalue": "",
     "output_type": "error",
     "traceback": [
      "\u001b[0;31m---------------------------------------------------------------------------\u001b[0m",
      "\u001b[0;31mKeyboardInterrupt\u001b[0m                         Traceback (most recent call last)",
      "\u001b[0;32m<ipython-input-8-9f91915c07a9>\u001b[0m in \u001b[0;36m<module>\u001b[0;34m()\u001b[0m\n\u001b[1;32m     10\u001b[0m \u001b[0mstart\u001b[0m \u001b[0;34m=\u001b[0m \u001b[0mtime\u001b[0m\u001b[0;34m.\u001b[0m\u001b[0mtime\u001b[0m\u001b[0;34m(\u001b[0m\u001b[0;34m)\u001b[0m\u001b[0;34m\u001b[0m\u001b[0m\n\u001b[1;32m     11\u001b[0m \u001b[0;32mprint\u001b[0m\u001b[0;34m(\u001b[0m\u001b[0;34m\"1 hidden-layer neural network (reduced training data -- overfit example)\"\u001b[0m\u001b[0;34m)\u001b[0m\u001b[0;34m\u001b[0m\u001b[0m\n\u001b[0;32m---> 12\u001b[0;31m \u001b[0mrun_nn\u001b[0m\u001b[0;34m(\u001b[0m\u001b[0mbatch_size\u001b[0m\u001b[0;34m,\u001b[0m \u001b[0mnum_steps\u001b[0m\u001b[0;34m,\u001b[0m \u001b[0mnew_train_dataset\u001b[0m\u001b[0;34m,\u001b[0m \u001b[0mnew_train_labels\u001b[0m\u001b[0;34m,\u001b[0m \u001b[0mbeta\u001b[0m\u001b[0;34m=\u001b[0m\u001b[0;36m0.01\u001b[0m\u001b[0;34m,\u001b[0m \u001b[0mverbose\u001b[0m\u001b[0;34m=\u001b[0m\u001b[0mTrue\u001b[0m\u001b[0;34m)\u001b[0m\u001b[0;34m\u001b[0m\u001b[0m\n\u001b[0m\u001b[1;32m     13\u001b[0m \u001b[0;32mprint\u001b[0m\u001b[0;34m(\u001b[0m\u001b[0;34m\"Elapsed %.3fs\"\u001b[0m \u001b[0;34m%\u001b[0m \u001b[0;34m(\u001b[0m\u001b[0mtime\u001b[0m\u001b[0;34m.\u001b[0m\u001b[0mtime\u001b[0m\u001b[0;34m(\u001b[0m\u001b[0;34m)\u001b[0m \u001b[0;34m-\u001b[0m \u001b[0mstart\u001b[0m\u001b[0;34m)\u001b[0m\u001b[0;34m)\u001b[0m\u001b[0;34m\u001b[0m\u001b[0m\n",
      "\u001b[0;32m<ipython-input-7-70cb3cbe490e>\u001b[0m in \u001b[0;36mrun_nn\u001b[0;34m(batch_size, num_steps, train_x, train_y, learning_rate, beta, verbose)\u001b[0m\n\u001b[1;32m     62\u001b[0m         \u001b[0mfeed_dict\u001b[0m \u001b[0;34m=\u001b[0m \u001b[0;34m{\u001b[0m\u001b[0mtf_train_dataset\u001b[0m \u001b[0;34m:\u001b[0m \u001b[0mbatch_data\u001b[0m\u001b[0;34m,\u001b[0m \u001b[0mtf_train_labels\u001b[0m \u001b[0;34m:\u001b[0m \u001b[0mbatch_labels\u001b[0m\u001b[0;34m}\u001b[0m\u001b[0;34m\u001b[0m\u001b[0m\n\u001b[1;32m     63\u001b[0m         _, l, predictions = session.run(\n\u001b[0;32m---> 64\u001b[0;31m           [optimizer, loss, train_prediction], feed_dict=feed_dict)\n\u001b[0m\u001b[1;32m     65\u001b[0m         \u001b[0;32mif\u001b[0m \u001b[0;34m(\u001b[0m\u001b[0mstep\u001b[0m \u001b[0;34m%\u001b[0m \u001b[0;36m500\u001b[0m \u001b[0;34m==\u001b[0m \u001b[0;36m0\u001b[0m \u001b[0;32mand\u001b[0m \u001b[0mverbose\u001b[0m\u001b[0;34m)\u001b[0m\u001b[0;34m:\u001b[0m\u001b[0;34m\u001b[0m\u001b[0m\n\u001b[1;32m     66\u001b[0m           \u001b[0;32mprint\u001b[0m\u001b[0;34m(\u001b[0m\u001b[0;34m\"Minibatch loss at step %d: %f\"\u001b[0m \u001b[0;34m%\u001b[0m \u001b[0;34m(\u001b[0m\u001b[0mstep\u001b[0m\u001b[0;34m,\u001b[0m \u001b[0ml\u001b[0m\u001b[0;34m)\u001b[0m\u001b[0;34m)\u001b[0m\u001b[0;34m\u001b[0m\u001b[0m\n",
      "\u001b[0;32m//anaconda/envs/tensorflow/lib/python2.7/site-packages/tensorflow/python/client/session.pyc\u001b[0m in \u001b[0;36mrun\u001b[0;34m(self, fetches, feed_dict, options, run_metadata)\u001b[0m\n\u001b[1;32m    764\u001b[0m     \u001b[0;32mtry\u001b[0m\u001b[0;34m:\u001b[0m\u001b[0;34m\u001b[0m\u001b[0m\n\u001b[1;32m    765\u001b[0m       result = self._run(None, fetches, feed_dict, options_ptr,\n\u001b[0;32m--> 766\u001b[0;31m                          run_metadata_ptr)\n\u001b[0m\u001b[1;32m    767\u001b[0m       \u001b[0;32mif\u001b[0m \u001b[0mrun_metadata\u001b[0m\u001b[0;34m:\u001b[0m\u001b[0;34m\u001b[0m\u001b[0m\n\u001b[1;32m    768\u001b[0m         \u001b[0mproto_data\u001b[0m \u001b[0;34m=\u001b[0m \u001b[0mtf_session\u001b[0m\u001b[0;34m.\u001b[0m\u001b[0mTF_GetBuffer\u001b[0m\u001b[0;34m(\u001b[0m\u001b[0mrun_metadata_ptr\u001b[0m\u001b[0;34m)\u001b[0m\u001b[0;34m\u001b[0m\u001b[0m\n",
      "\u001b[0;32m//anaconda/envs/tensorflow/lib/python2.7/site-packages/tensorflow/python/client/session.pyc\u001b[0m in \u001b[0;36m_run\u001b[0;34m(self, handle, fetches, feed_dict, options, run_metadata)\u001b[0m\n\u001b[1;32m    962\u001b[0m     \u001b[0;32mif\u001b[0m \u001b[0mfinal_fetches\u001b[0m \u001b[0;32mor\u001b[0m \u001b[0mfinal_targets\u001b[0m\u001b[0;34m:\u001b[0m\u001b[0;34m\u001b[0m\u001b[0m\n\u001b[1;32m    963\u001b[0m       results = self._do_run(handle, final_targets, final_fetches,\n\u001b[0;32m--> 964\u001b[0;31m                              feed_dict_string, options, run_metadata)\n\u001b[0m\u001b[1;32m    965\u001b[0m     \u001b[0;32melse\u001b[0m\u001b[0;34m:\u001b[0m\u001b[0;34m\u001b[0m\u001b[0m\n\u001b[1;32m    966\u001b[0m       \u001b[0mresults\u001b[0m \u001b[0;34m=\u001b[0m \u001b[0;34m[\u001b[0m\u001b[0;34m]\u001b[0m\u001b[0;34m\u001b[0m\u001b[0m\n",
      "\u001b[0;32m//anaconda/envs/tensorflow/lib/python2.7/site-packages/tensorflow/python/client/session.pyc\u001b[0m in \u001b[0;36m_do_run\u001b[0;34m(self, handle, target_list, fetch_list, feed_dict, options, run_metadata)\u001b[0m\n\u001b[1;32m   1012\u001b[0m     \u001b[0;32mif\u001b[0m \u001b[0mhandle\u001b[0m \u001b[0;32mis\u001b[0m \u001b[0mNone\u001b[0m\u001b[0;34m:\u001b[0m\u001b[0;34m\u001b[0m\u001b[0m\n\u001b[1;32m   1013\u001b[0m       return self._do_call(_run_fn, self._session, feed_dict, fetch_list,\n\u001b[0;32m-> 1014\u001b[0;31m                            target_list, options, run_metadata)\n\u001b[0m\u001b[1;32m   1015\u001b[0m     \u001b[0;32melse\u001b[0m\u001b[0;34m:\u001b[0m\u001b[0;34m\u001b[0m\u001b[0m\n\u001b[1;32m   1016\u001b[0m       return self._do_call(_prun_fn, self._session, handle, feed_dict,\n",
      "\u001b[0;32m//anaconda/envs/tensorflow/lib/python2.7/site-packages/tensorflow/python/client/session.pyc\u001b[0m in \u001b[0;36m_do_call\u001b[0;34m(self, fn, *args)\u001b[0m\n\u001b[1;32m   1019\u001b[0m   \u001b[0;32mdef\u001b[0m \u001b[0m_do_call\u001b[0m\u001b[0;34m(\u001b[0m\u001b[0mself\u001b[0m\u001b[0;34m,\u001b[0m \u001b[0mfn\u001b[0m\u001b[0;34m,\u001b[0m \u001b[0;34m*\u001b[0m\u001b[0margs\u001b[0m\u001b[0;34m)\u001b[0m\u001b[0;34m:\u001b[0m\u001b[0;34m\u001b[0m\u001b[0m\n\u001b[1;32m   1020\u001b[0m     \u001b[0;32mtry\u001b[0m\u001b[0;34m:\u001b[0m\u001b[0;34m\u001b[0m\u001b[0m\n\u001b[0;32m-> 1021\u001b[0;31m       \u001b[0;32mreturn\u001b[0m \u001b[0mfn\u001b[0m\u001b[0;34m(\u001b[0m\u001b[0;34m*\u001b[0m\u001b[0margs\u001b[0m\u001b[0;34m)\u001b[0m\u001b[0;34m\u001b[0m\u001b[0m\n\u001b[0m\u001b[1;32m   1022\u001b[0m     \u001b[0;32mexcept\u001b[0m \u001b[0merrors\u001b[0m\u001b[0;34m.\u001b[0m\u001b[0mOpError\u001b[0m \u001b[0;32mas\u001b[0m \u001b[0me\u001b[0m\u001b[0;34m:\u001b[0m\u001b[0;34m\u001b[0m\u001b[0m\n\u001b[1;32m   1023\u001b[0m       \u001b[0mmessage\u001b[0m \u001b[0;34m=\u001b[0m \u001b[0mcompat\u001b[0m\u001b[0;34m.\u001b[0m\u001b[0mas_text\u001b[0m\u001b[0;34m(\u001b[0m\u001b[0me\u001b[0m\u001b[0;34m.\u001b[0m\u001b[0mmessage\u001b[0m\u001b[0;34m)\u001b[0m\u001b[0;34m\u001b[0m\u001b[0m\n",
      "\u001b[0;32m//anaconda/envs/tensorflow/lib/python2.7/site-packages/tensorflow/python/client/session.pyc\u001b[0m in \u001b[0;36m_run_fn\u001b[0;34m(session, feed_dict, fetch_list, target_list, options, run_metadata)\u001b[0m\n\u001b[1;32m   1001\u001b[0m         return tf_session.TF_Run(session, options,\n\u001b[1;32m   1002\u001b[0m                                  \u001b[0mfeed_dict\u001b[0m\u001b[0;34m,\u001b[0m \u001b[0mfetch_list\u001b[0m\u001b[0;34m,\u001b[0m \u001b[0mtarget_list\u001b[0m\u001b[0;34m,\u001b[0m\u001b[0;34m\u001b[0m\u001b[0m\n\u001b[0;32m-> 1003\u001b[0;31m                                  status, run_metadata)\n\u001b[0m\u001b[1;32m   1004\u001b[0m \u001b[0;34m\u001b[0m\u001b[0m\n\u001b[1;32m   1005\u001b[0m     \u001b[0;32mdef\u001b[0m \u001b[0m_prun_fn\u001b[0m\u001b[0;34m(\u001b[0m\u001b[0msession\u001b[0m\u001b[0;34m,\u001b[0m \u001b[0mhandle\u001b[0m\u001b[0;34m,\u001b[0m \u001b[0mfeed_dict\u001b[0m\u001b[0;34m,\u001b[0m \u001b[0mfetch_list\u001b[0m\u001b[0;34m)\u001b[0m\u001b[0;34m:\u001b[0m\u001b[0;34m\u001b[0m\u001b[0m\n",
      "\u001b[0;31mKeyboardInterrupt\u001b[0m: "
     ]
    }
   ],
   "source": [
    "def reduce_training_data(divider):\n",
    "    dataset_size = train_labels.shape[0]\n",
    "    new_train_dataset = train_dataset[:dataset_size // divider]\n",
    "    new_train_labels = train_labels[:dataset_size // divider]\n",
    "    \n",
    "    return (new_train_dataset, new_train_labels)\n",
    "\n",
    "new_train_dataset, new_train_labels = reduce_training_data(100)\n",
    "\n",
    "start = time.time()\n",
    "print(\"1 hidden-layer neural network (reduced training data -- overfit example)\")\n",
    "run_nn(batch_size, num_steps, new_train_dataset, new_train_labels, beta=0.01, verbose=True)   \n",
    "print(\"Elapsed %.3fs\" % (time.time() - start))"
   ]
  },
  {
   "cell_type": "markdown",
   "metadata": {
    "colab_type": "text",
    "id": "ww3SCBUdlkRc"
   },
   "source": [
    "---\n",
    "Problem 3\n",
    "---------\n",
    "Introduce Dropout on the hidden layer of the neural network. Remember: Dropout should only be introduced during training, not evaluation, otherwise your evaluation results would be stochastic as well. TensorFlow provides `nn.dropout()` for that, but you have to make sure it's only inserted during training.\n",
    "\n",
    "What happens to our extreme overfitting case?\n",
    "\n",
    "---"
   ]
  },
  {
   "cell_type": "code",
   "execution_count": 9,
   "metadata": {
    "collapsed": true
   },
   "outputs": [],
   "source": [
    "def run_nn_with_dropout(batch_size, num_steps, train_x, train_y,\n",
    "           learning_rate=.1, beta=.1, verbose=False):\n",
    "    hidden_nodes = 1024\n",
    "\n",
    "    def weight_variable(shape):\n",
    "      initial = tf.truncated_normal(shape)\n",
    "      return tf.Variable(initial)\n",
    "\n",
    "    def bias_variable(shape):\n",
    "      initial = tf.zeros(shape)\n",
    "      return tf.Variable(initial)\n",
    "\n",
    "    def get_logits(x, w1, b1, w2, b2, keep_prob=.5):\n",
    "      relu_dropout = tf.nn.dropout(tf.nn.relu(tf.matmul(x, w1) + b1), keep_prob=keep_prob)\n",
    "      return (tf.matmul(relu_dropout, w2) + b2)\n",
    "\n",
    "    graph = tf.Graph()\n",
    "    with graph.as_default():\n",
    "      tf.set_random_seed(1)\n",
    "      # Input data. For the training data, we use a placeholder that will be fed\n",
    "      # at run time with a training minibatch.\n",
    "      tf_train_dataset = tf.placeholder(tf.float32,\n",
    "                                        shape=(batch_size, image_size * image_size))\n",
    "      tf_train_labels = tf.placeholder(tf.float32, shape=(batch_size, num_labels))\n",
    "      tf_valid_dataset = tf.constant(valid_dataset)\n",
    "      tf_test_dataset = tf.constant(test_dataset)\n",
    "\n",
    "      # Variables.\n",
    "      weights_1 = weight_variable([image_size * image_size, hidden_nodes])\n",
    "      biases_1 = bias_variable([hidden_nodes])\n",
    "\n",
    "      weights_2 = weight_variable([hidden_nodes, num_labels])\n",
    "      biases_2 = bias_variable([num_labels])\n",
    "\n",
    "      # Training computation.\n",
    "      logits = get_logits(tf_train_dataset, weights_1, biases_1, weights_2, biases_2)\n",
    "      loss = tf.reduce_mean(\n",
    "        tf.nn.softmax_cross_entropy_with_logits(labels=tf_train_labels, logits=logits)) + \\\n",
    "            0.5 * beta * (tf.nn.l2_loss(weights_1) + tf.nn.l2_loss(weights_2))\n",
    "\n",
    "      # Optimizer.\n",
    "      optimizer = tf.train.GradientDescentOptimizer(learning_rate).minimize(loss)\n",
    "\n",
    "      # Predictions for the training, validation, and test data.\n",
    "      train_prediction = tf.nn.softmax(logits)\n",
    "      valid_prediction = tf.nn.softmax(get_logits(tf_valid_dataset, weights_1, biases_1, weights_2, biases_2, keep_prob=1))\n",
    "      test_prediction = tf.nn.softmax(get_logits(tf_test_dataset, weights_1, biases_1, weights_2, biases_2, keep_prob=1))\n",
    "\n",
    "    with tf.Session(graph=graph) as session:\n",
    "      tf.set_random_seed(1)\n",
    "      tf.global_variables_initializer().run()\n",
    "      for step in range(num_steps):\n",
    "        # Pick an offset within the training data, which has been randomized.\n",
    "        # Note: we could use better randomization across epochs.\n",
    "        offset = (step * batch_size) % (train_y.shape[0] - batch_size)\n",
    "        # Generate a minibatch.\n",
    "        batch_data = train_x[offset:(offset + batch_size), :]\n",
    "        batch_labels = train_y[offset:(offset + batch_size), :]\n",
    "        # Prepare a dictionary telling the session where to feed the minibatch.\n",
    "        # The key of the dictionary is the placeholder node of the graph to be fed,\n",
    "        # and the value is the numpy array to feed to it.\n",
    "        feed_dict = {tf_train_dataset : batch_data, tf_train_labels : batch_labels}\n",
    "        _, l, predictions = session.run(\n",
    "          [optimizer, loss, train_prediction], feed_dict=feed_dict)\n",
    "        if (step % 500 == 0 and verbose):\n",
    "          print(\"Minibatch loss at step %d: %f\" % (step, l))\n",
    "          print(\"Minibatch accuracy: %.1f%%\" % accuracy(predictions, batch_labels))\n",
    "          print(\"Validation accuracy: %.1f%%\" % accuracy(\n",
    "            valid_prediction.eval(), valid_labels))\n",
    "        \n",
    "      acc = accuracy(test_prediction.eval(), test_labels)\n",
    "      if verbose:\n",
    "          print(\"Test accuracy: %.1f%%\" % acc)\n",
    "        \n",
    "    return acc"
   ]
  },
  {
   "cell_type": "code",
   "execution_count": 11,
   "metadata": {
    "collapsed": false
   },
   "outputs": [
    {
     "name": "stdout",
     "output_type": "stream",
     "text": [
      "1 hidden-layer neural network (overfit example + dropout)\n",
      "Minibatch loss at step 0: 2033.286255\n",
      "Minibatch accuracy: 10.2%\n",
      "Validation accuracy: 20.2%\n",
      "Minibatch loss at step 500: 952.380737\n",
      "Minibatch accuracy: 96.1%\n",
      "Validation accuracy: 80.4%\n",
      "Minibatch loss at step 1000: 576.299255\n",
      "Minibatch accuracy: 98.4%\n",
      "Validation accuracy: 81.0%\n",
      "Minibatch loss at step 1500: 349.284790\n",
      "Minibatch accuracy: 99.2%\n",
      "Validation accuracy: 81.1%\n",
      "Minibatch loss at step 2000: 211.735428\n",
      "Minibatch accuracy: 100.0%\n",
      "Validation accuracy: 81.0%\n",
      "Minibatch loss at step 2500: 128.418076\n",
      "Minibatch accuracy: 98.4%\n",
      "Validation accuracy: 81.1%\n",
      "Minibatch loss at step 3000: 77.877846\n",
      "Minibatch accuracy: 100.0%\n",
      "Validation accuracy: 81.3%\n",
      "Test accuracy: 88.8%\n",
      "Elapsed 79.504s\n"
     ]
    }
   ],
   "source": [
    "start = time.time()\n",
    "print(\"1 hidden-layer neural network (overfit example + dropout)\")\n",
    "run_nn_with_dropout(batch_size, num_steps, new_train_dataset, new_train_labels, beta=0.01, verbose=True)    \n",
    "print(\"Elapsed %.3fs\" % (time.time() - start))"
   ]
  },
  {
   "cell_type": "markdown",
   "metadata": {
    "colab_type": "text",
    "id": "-b1hTz3VWZjw"
   },
   "source": [
    "---\n",
    "Problem 4\n",
    "---------\n",
    "\n",
    "Try to get the best performance you can using a multi-layer model! The best reported test accuracy using a deep network is [97.1%](http://yaroslavvb.blogspot.com/2011/09/notmnist-dataset.html?showComment=1391023266211#c8758720086795711595).\n",
    "\n",
    "One avenue you can explore is to add multiple layers.\n",
    "\n",
    "Another one is to use learning rate decay:\n",
    "\n",
    "    global_step = tf.Variable(0)  # count the number of steps taken.\n",
    "    learning_rate = tf.train.exponential_decay(0.5, global_step, ...)\n",
    "    optimizer = tf.train.GradientDescentOptimizer(learning_rate).minimize(loss, global_step=global_step)\n",
    " \n",
    " ---\n"
   ]
  },
  {
   "cell_type": "code",
   "execution_count": 10,
   "metadata": {
    "collapsed": false
   },
   "outputs": [
    {
     "name": "stdout",
     "output_type": "stream",
     "text": [
      "1 hidden-layer neural network (all data + dropout)\n",
      "Minibatch loss at step 0: 2033.286255\n",
      "Minibatch accuracy: 10.2%\n",
      "Validation accuracy: 20.2%\n",
      "Minibatch loss at step 500: 955.374084\n",
      "Minibatch accuracy: 81.2%\n",
      "Validation accuracy: 83.0%\n",
      "Minibatch loss at step 1000: 574.996277\n",
      "Minibatch accuracy: 78.9%\n",
      "Validation accuracy: 82.6%\n",
      "Minibatch loss at step 1500: 346.063171\n",
      "Minibatch accuracy: 83.6%\n",
      "Validation accuracy: 83.3%\n",
      "Minibatch loss at step 2000: 209.076599\n",
      "Minibatch accuracy: 79.7%\n",
      "Validation accuracy: 82.8%\n",
      "Minibatch loss at step 2500: 126.581299\n",
      "Minibatch accuracy: 80.5%\n",
      "Validation accuracy: 83.9%\n",
      "Minibatch loss at step 3000: 76.908089\n",
      "Minibatch accuracy: 81.2%\n",
      "Validation accuracy: 84.6%\n",
      "Test accuracy: 91.5%\n",
      "Elapsed 75.864s\n"
     ]
    }
   ],
   "source": [
    "start = time.time()\n",
    "print(\"1 hidden-layer neural network (all data + dropout)\")\n",
    "run_nn_with_dropout(batch_size, num_steps, train_dataset, train_labels, beta=0.01, verbose=True)    \n",
    "print(\"Elapsed %.3fs\" % (time.time() - start))"
   ]
  },
  {
   "cell_type": "code",
   "execution_count": 11,
   "metadata": {
    "collapsed": false
   },
   "outputs": [
    {
     "name": "stdout",
     "output_type": "stream",
     "text": [
      "1 hidden-layer neural network (all data + dropout + 6000 steps)\n",
      "Minibatch loss at step 0: 2033.286255\n",
      "Minibatch accuracy: 10.2%\n",
      "Validation accuracy: 20.2%\n",
      "Minibatch loss at step 500: 955.374084\n",
      "Minibatch accuracy: 81.2%\n",
      "Validation accuracy: 83.0%\n",
      "Minibatch loss at step 1000: 574.996277\n",
      "Minibatch accuracy: 78.9%\n",
      "Validation accuracy: 82.6%\n",
      "Minibatch loss at step 1500: 346.063171\n",
      "Minibatch accuracy: 83.6%\n",
      "Validation accuracy: 83.3%\n",
      "Minibatch loss at step 2000: 209.076599\n",
      "Minibatch accuracy: 79.7%\n",
      "Validation accuracy: 82.8%\n",
      "Minibatch loss at step 2500: 126.581299\n",
      "Minibatch accuracy: 80.5%\n",
      "Validation accuracy: 83.9%\n",
      "Minibatch loss at step 3000: 76.908089\n",
      "Minibatch accuracy: 81.2%\n",
      "Validation accuracy: 84.6%\n",
      "Minibatch loss at step 3500: 46.882347\n",
      "Minibatch accuracy: 84.4%\n",
      "Validation accuracy: 84.9%\n",
      "Minibatch loss at step 4000: 28.586117\n",
      "Minibatch accuracy: 87.5%\n",
      "Validation accuracy: 85.3%\n",
      "Minibatch loss at step 4500: 17.571941\n",
      "Minibatch accuracy: 85.2%\n",
      "Validation accuracy: 85.0%\n",
      "Minibatch loss at step 5000: 10.912437\n",
      "Minibatch accuracy: 85.2%\n",
      "Validation accuracy: 85.4%\n",
      "Minibatch loss at step 5500: 6.939474\n",
      "Minibatch accuracy: 82.0%\n",
      "Validation accuracy: 85.3%\n",
      "Minibatch loss at step 6000: 4.495537\n",
      "Minibatch accuracy: 81.2%\n",
      "Validation accuracy: 85.4%\n",
      "Test accuracy: 92.2%\n",
      "Elapsed 153.767s\n"
     ]
    }
   ],
   "source": [
    "start = time.time()\n",
    "print(\"1 hidden-layer neural network (all data + dropout + 6000 steps)\")\n",
    "run_nn_with_dropout(batch_size, 6001, train_dataset, train_labels, beta=0.01, verbose=True)    \n",
    "print(\"Elapsed %.3fs\" % (time.time() - start))"
   ]
  },
  {
   "cell_type": "code",
   "execution_count": 23,
   "metadata": {
    "collapsed": true
   },
   "outputs": [],
   "source": [
    "def run_2lnn_with_dropout(batch_size, num_steps, train_x, train_y,\n",
    "           learning_rate=.1, beta=.1, verbose=False):\n",
    "    hidden_nodes = 1024\n",
    "\n",
    "    def weight_variable(shape):\n",
    "      initial = tf.truncated_normal(shape)\n",
    "      return tf.Variable(initial)\n",
    "\n",
    "    def bias_variable(shape):\n",
    "      initial = tf.zeros(shape)\n",
    "      return tf.Variable(initial)\n",
    "    \n",
    "    def get_layer(previous_layer, w, b, testing=False):\n",
    "        layer = tf.matmul(previous_layer, w) + b\n",
    "        if testing:\n",
    "            return tf.nn.relu(layer)\n",
    "        else:\n",
    "            return tf.nn.dropout(tf.nn.relu(layer), keep_prob=.5)\n",
    "\n",
    "    graph = tf.Graph()\n",
    "    with graph.as_default():\n",
    "      tf.set_random_seed(1)\n",
    "      # Input data. For the training data, we use a placeholder that will be fed\n",
    "      # at run time with a training minibatch.\n",
    "      tf_train_dataset = tf.placeholder(tf.float32,\n",
    "                                        shape=(batch_size, image_size * image_size))\n",
    "      tf_train_labels = tf.placeholder(tf.float32, shape=(batch_size, num_labels))\n",
    "      tf_valid_dataset = tf.constant(valid_dataset)\n",
    "      tf_test_dataset = tf.constant(test_dataset)\n",
    "\n",
    "      # Variables.\n",
    "      weights_1 = weight_variable([image_size * image_size, hidden_nodes])\n",
    "      biases_1 = bias_variable([hidden_nodes])\n",
    "      layer_1_train = get_layer(tf_train_dataset, weights_1, biases_1)\n",
    "      layer_1_valid = get_layer(tf_valid_dataset, weights_1, biases_1, testing=True)\n",
    "      layer_1_test = get_layer(tf_test_dataset, weights_1, biases_1, testing=True)\n",
    "\n",
    "      weights_2 = weight_variable([hidden_nodes, 300])\n",
    "      biases_2 = bias_variable([300])\n",
    "      layer_2_train = get_layer(layer_1_train, weights_2, biases_2)\n",
    "      layer_2_valid = get_layer(layer_1_valid, weights_2, biases_2, testing=True)\n",
    "      layer_2_test = get_layer(layer_1_test, weights_2, biases_2, testing=True)\n",
    "\n",
    "      weights_3 = weight_variable([300, num_labels])\n",
    "      biases_3 = bias_variable([num_labels])\n",
    "      layer_3_train = get_layer(layer_2_train, weights_3, biases_3)\n",
    "      layer_3_valid = get_layer(layer_2_valid, weights_3, biases_3, testing=True)\n",
    "      layer_3_test = get_layer(layer_2_test, weights_3, biases_3, testing=True)\n",
    "        \n",
    "      # Training computation.\n",
    "      logits_train = layer_3_train\n",
    "      logits_valid = layer_3_valid\n",
    "      logits_test = layer_3_test\n",
    "      loss = tf.reduce_mean(\n",
    "        tf.nn.softmax_cross_entropy_with_logits(labels=tf_train_labels, logits=logits_train)) + \\\n",
    "            0.5 * beta * (tf.nn.l2_loss(weights_1) + tf.nn.l2_loss(weights_2) + tf.nn.l2_loss(weights_3))\n",
    "\n",
    "      # Optimizer.\n",
    "      optimizer = tf.train.GradientDescentOptimizer(learning_rate).minimize(loss)\n",
    "\n",
    "      # Predictions for the training, validation, and test data.\n",
    "      train_prediction = tf.nn.softmax(logits_train)\n",
    "      valid_prediction = tf.nn.softmax(logits_valid)\n",
    "      test_prediction = tf.nn.softmax(logits_test)\n",
    "\n",
    "    with tf.Session(graph=graph) as session:\n",
    "      tf.set_random_seed(1)\n",
    "      tf.global_variables_initializer().run()\n",
    "      for step in range(num_steps):\n",
    "        # Pick an offset within the training data, which has been randomized.\n",
    "        # Note: we could use better randomization across epochs.\n",
    "        offset = (step * batch_size) % (train_y.shape[0] - batch_size)\n",
    "        # Generate a minibatch.\n",
    "        batch_data = train_x[offset:(offset + batch_size), :]\n",
    "        batch_labels = train_y[offset:(offset + batch_size), :]\n",
    "        # Prepare a dictionary telling the session where to feed the minibatch.\n",
    "        # The key of the dictionary is the placeholder node of the graph to be fed,\n",
    "        # and the value is the numpy array to feed to it.\n",
    "        feed_dict = {tf_train_dataset : batch_data, tf_train_labels : batch_labels}\n",
    "        _, l, predictions = session.run(\n",
    "          [optimizer, loss, train_prediction], feed_dict=feed_dict)\n",
    "        if (step % 500 == 0 and verbose):\n",
    "          print(\"Minibatch loss at step %d: %f\" % (step, l))\n",
    "          print(\"Minibatch accuracy: %.1f%%\" % accuracy(predictions, batch_labels))\n",
    "          print(\"Validation accuracy: %.1f%%\" % accuracy(\n",
    "            valid_prediction.eval(), valid_labels))\n",
    "        \n",
    "      acc = accuracy(test_prediction.eval(), test_labels)\n",
    "      if verbose:\n",
    "          print(\"Test accuracy: %.1f%%\" % acc)\n",
    "        \n",
    "    return acc"
   ]
  },
  {
   "cell_type": "code",
   "execution_count": 24,
   "metadata": {
    "collapsed": false
   },
   "outputs": [
    {
     "name": "stdout",
     "output_type": "stream",
     "text": [
      "2 hidden-layer neural network (all data + dropout + 6000 steps)\n",
      "Minibatch loss at step 0: 11705.000977\n",
      "Minibatch accuracy: 11.7%\n",
      "Validation accuracy: 10.0%\n",
      "Minibatch loss at step 500: 1396.848511\n",
      "Minibatch accuracy: 9.4%\n",
      "Validation accuracy: 10.0%\n",
      "Minibatch loss at step 1000: 848.032227\n",
      "Minibatch accuracy: 8.6%\n",
      "Validation accuracy: 10.0%\n",
      "Minibatch loss at step 1500: 515.198547\n",
      "Minibatch accuracy: 11.7%\n",
      "Validation accuracy: 10.0%\n",
      "Minibatch loss at step 2000: 313.351074\n",
      "Minibatch accuracy: 6.2%\n",
      "Validation accuracy: 10.0%\n",
      "Minibatch loss at step 2500: 190.939377\n",
      "Minibatch accuracy: 10.2%\n",
      "Validation accuracy: 10.0%\n",
      "Minibatch loss at step 3000: 116.702415\n",
      "Minibatch accuracy: 7.8%\n",
      "Validation accuracy: 10.0%\n",
      "Minibatch loss at step 3500: 71.680847\n",
      "Minibatch accuracy: 6.2%\n",
      "Validation accuracy: 10.0%\n",
      "Minibatch loss at step 4000: 44.377407\n",
      "Minibatch accuracy: 10.9%\n",
      "Validation accuracy: 10.0%\n",
      "Minibatch loss at step 4500: 27.819042\n",
      "Minibatch accuracy: 4.7%\n",
      "Validation accuracy: 10.0%\n",
      "Minibatch loss at step 5000: 17.777170\n",
      "Minibatch accuracy: 10.9%\n",
      "Validation accuracy: 10.0%\n",
      "Minibatch loss at step 5500: 11.687213\n",
      "Minibatch accuracy: 9.4%\n",
      "Validation accuracy: 10.0%\n",
      "Minibatch loss at step 6000: 7.993942\n",
      "Minibatch accuracy: 5.5%\n",
      "Validation accuracy: 10.0%\n",
      "Test accuracy: 10.0%\n",
      "Elapsed 213.585s\n"
     ]
    }
   ],
   "source": [
    "start = time.time()\n",
    "print(\"2 hidden-layer neural network (all data + dropout + 6000 steps)\")\n",
    "run_2lnn_with_dropout(batch_size, 6001, train_dataset, train_labels, beta=0.01, verbose=True)    \n",
    "print(\"Elapsed %.3fs\" % (time.time() - start))"
   ]
  },
  {
   "cell_type": "markdown",
   "metadata": {},
   "source": [
    "--------\n",
    "\n",
    "No success with 2 hidden layers. Tried various types: 1024-1024-10, 1024-10-10 and 1024-300-10, with learning rates of 0.01, 0.1 and 0.5, and batch size of 128 and 512.\n",
    "\n",
    "Now I'll try learning rate decay.\n",
    "\n",
    "---------"
   ]
  },
  {
   "cell_type": "code",
   "execution_count": 32,
   "metadata": {
    "collapsed": true
   },
   "outputs": [],
   "source": [
    "def run_nn_with_dropout_and_decay(batch_size, num_steps, train_x, train_y,\n",
    "           initial_learning_rate=.1, beta=.1, verbose=False):\n",
    "    hidden_nodes = 1024\n",
    "\n",
    "    def weight_variable(shape):\n",
    "      initial = tf.truncated_normal(shape)\n",
    "      return tf.Variable(initial)\n",
    "\n",
    "    def bias_variable(shape):\n",
    "      initial = tf.zeros(shape)\n",
    "      return tf.Variable(initial)\n",
    "\n",
    "    def get_logits(x, w1, b1, w2, b2, keep_prob=.5):\n",
    "      relu_dropout = tf.nn.dropout(tf.nn.relu(tf.matmul(x, w1) + b1), keep_prob=keep_prob)\n",
    "      return (tf.matmul(relu_dropout, w2) + b2)\n",
    "\n",
    "    graph = tf.Graph()\n",
    "    with graph.as_default():\n",
    "      tf.set_random_seed(1)\n",
    "      # Input data. For the training data, we use a placeholder that will be fed\n",
    "      # at run time with a training minibatch.\n",
    "      tf_train_dataset = tf.placeholder(tf.float32,\n",
    "                                        shape=(batch_size, image_size * image_size))\n",
    "      tf_train_labels = tf.placeholder(tf.float32, shape=(batch_size, num_labels))\n",
    "      tf_valid_dataset = tf.constant(valid_dataset)\n",
    "      tf_test_dataset = tf.constant(test_dataset)\n",
    "\n",
    "      # Variables.\n",
    "      weights_1 = weight_variable([image_size * image_size, hidden_nodes])\n",
    "      biases_1 = bias_variable([hidden_nodes])\n",
    "\n",
    "      weights_2 = weight_variable([hidden_nodes, num_labels])\n",
    "      biases_2 = bias_variable([num_labels])\n",
    "\n",
    "      # Training computation.\n",
    "      logits = get_logits(tf_train_dataset, weights_1, biases_1, weights_2, biases_2)\n",
    "      loss = tf.reduce_mean(\n",
    "        tf.nn.softmax_cross_entropy_with_logits(labels=tf_train_labels, logits=logits)) + \\\n",
    "            0.5 * beta * (tf.nn.l2_loss(weights_1) + tf.nn.l2_loss(weights_2))\n",
    "\n",
    "      global_step = tf.Variable(1, name='global_step', trainable=False, dtype=tf.int32)\n",
    "      increment_global_step_op = tf.assign(global_step, global_step+1)\n",
    "      learning_rate = tf.train.exponential_decay(initial_learning_rate, global_step, 1000, 0.5, staircase=True)\n",
    "      optimizer = tf.train.GradientDescentOptimizer(learning_rate).minimize(loss, global_step=global_step)\n",
    "        \n",
    "      # Optimizer.\n",
    "      optimizer = tf.train.GradientDescentOptimizer(learning_rate).minimize(loss)\n",
    "\n",
    "      # Predictions for the training, validation, and test data.\n",
    "      train_prediction = tf.nn.softmax(logits)\n",
    "      valid_prediction = tf.nn.softmax(get_logits(tf_valid_dataset, weights_1, biases_1, weights_2, biases_2, keep_prob=1))\n",
    "      test_prediction = tf.nn.softmax(get_logits(tf_test_dataset, weights_1, biases_1, weights_2, biases_2, keep_prob=1))\n",
    "\n",
    "    with tf.Session(graph=graph) as session:\n",
    "      tf.set_random_seed(1)\n",
    "      tf.global_variables_initializer().run()\n",
    "      for step in range(num_steps):\n",
    "        # Pick an offset within the training data, which has been randomized.\n",
    "        # Note: we could use better randomization across epochs.\n",
    "        offset = (step * batch_size) % (train_y.shape[0] - batch_size)\n",
    "        # Generate a minibatch.\n",
    "        batch_data = train_x[offset:(offset + batch_size), :]\n",
    "        batch_labels = train_y[offset:(offset + batch_size), :]\n",
    "        # Prepare a dictionary telling the session where to feed the minibatch.\n",
    "        # The key of the dictionary is the placeholder node of the graph to be fed,\n",
    "        # and the value is the numpy array to feed to it.\n",
    "        feed_dict = {tf_train_dataset : batch_data, tf_train_labels : batch_labels}\n",
    "        _, l, predictions, _ = session.run(\n",
    "          [optimizer, loss, train_prediction, increment_global_step_op], feed_dict=feed_dict)\n",
    "        if (step % 500 == 0 and verbose):\n",
    "          print(\"Minibatch loss at step %d: %f\" % (step, l))\n",
    "          print(\"Minibatch accuracy: %.1f%%\" % accuracy(predictions, batch_labels))\n",
    "          print(\"Validation accuracy: %.1f%%\" % accuracy(\n",
    "            valid_prediction.eval(), valid_labels))\n",
    "        \n",
    "      acc = accuracy(test_prediction.eval(), test_labels)\n",
    "      if verbose:\n",
    "          print(\"Test accuracy: %.1f%%\" % acc)\n",
    "        \n",
    "    return acc"
   ]
  },
  {
   "cell_type": "code",
   "execution_count": 34,
   "metadata": {
    "collapsed": false
   },
   "outputs": [
    {
     "name": "stdout",
     "output_type": "stream",
     "text": [
      "1 hidden-layer neural network (all data + dropout + decay lr + 6000 steps)\n",
      "Minibatch loss at step 0: 2033.286255\n",
      "Minibatch accuracy: 10.2%\n",
      "Validation accuracy: 26.4%\n",
      "Minibatch loss at step 500: 349.273743\n",
      "Minibatch accuracy: 79.7%\n",
      "Validation accuracy: 81.8%\n",
      "Minibatch loss at step 1000: 77.683899\n",
      "Minibatch accuracy: 78.1%\n",
      "Validation accuracy: 83.9%\n",
      "Minibatch loss at step 1500: 66.431190\n",
      "Minibatch accuracy: 86.7%\n",
      "Validation accuracy: 84.9%\n",
      "Minibatch loss at step 2000: 57.263008\n",
      "Minibatch accuracy: 85.9%\n",
      "Validation accuracy: 85.3%\n",
      "Minibatch loss at step 2500: 56.447029\n",
      "Minibatch accuracy: 82.0%\n",
      "Validation accuracy: 85.2%\n",
      "Minibatch loss at step 3000: 55.667961\n",
      "Minibatch accuracy: 82.8%\n",
      "Validation accuracy: 85.2%\n",
      "Minibatch loss at step 3500: 55.611835\n",
      "Minibatch accuracy: 85.9%\n",
      "Validation accuracy: 85.2%\n",
      "Minibatch loss at step 4000: 55.550827\n",
      "Minibatch accuracy: 84.4%\n",
      "Validation accuracy: 85.2%\n",
      "Minibatch loss at step 4500: 55.583439\n",
      "Minibatch accuracy: 84.4%\n",
      "Validation accuracy: 85.2%\n",
      "Minibatch loss at step 5000: 55.530197\n",
      "Minibatch accuracy: 87.5%\n",
      "Validation accuracy: 85.2%\n",
      "Minibatch loss at step 5500: 55.571587\n",
      "Minibatch accuracy: 82.8%\n",
      "Validation accuracy: 85.2%\n",
      "Minibatch loss at step 6000: 55.482494\n",
      "Minibatch accuracy: 82.8%\n",
      "Validation accuracy: 85.2%\n",
      "Test accuracy: 91.8%\n",
      "Elapsed 141.559s\n"
     ]
    }
   ],
   "source": [
    "start = time.time()\n",
    "print(\"1 hidden-layer neural network (all data + dropout + decay lr + 6000 steps)\")\n",
    "run_nn_with_dropout_and_decay(batch_size, 6001, train_dataset, train_labels, beta=0.01, initial_learning_rate=0.3, verbose=True)    \n",
    "print(\"Elapsed %.3fs\" % (time.time() - start))"
   ]
  },
  {
   "cell_type": "markdown",
   "metadata": {},
   "source": [
    "Keras is too slow below. SO DON'T RUN!!!!\n",
    "\n",
    "---------"
   ]
  },
  {
   "cell_type": "code",
   "execution_count": 24,
   "metadata": {
    "collapsed": false
   },
   "outputs": [],
   "source": [
    "# setting seed\n",
    "import numpy as np\n",
    "np.random.seed(1)\n",
    "\n",
    "# Keras imports\n",
    "from keras.models import Sequential\n",
    "from keras.layers import Dense, Activation, Dropout\n",
    "from keras.regularizers import l2\n",
    "from keras.optimizers import SGD"
   ]
  },
  {
   "cell_type": "code",
   "execution_count": 62,
   "metadata": {
    "collapsed": false
   },
   "outputs": [],
   "source": [
    "def run_ann_with_keras(batch_size, nb_epoch, X_train, Y_train, beta=.1, sgd_lr=.1, dropout_prob=.5, verbose=0):\n",
    "    start = time.time()\n",
    "    \n",
    "    hidden_nodes = 1024\n",
    "    image_size = 28\n",
    "    num_labels = 10\n",
    "    \n",
    "    model = Sequential()\n",
    "\n",
    "    # Input Layer\n",
    "    model.add(Dense(output_dim=1024, input_dim=image_size*image_size, W_regularizer=l2(beta)))\n",
    "    model.add(Activation(\"relu\"))\n",
    "    model.add(Dropout(dropout_prob))\n",
    "    # Hidden Layer\n",
    "    model.add(Dense(output_dim=num_labels, W_regularizer=l2(beta)))\n",
    "\n",
    "    # Output Layer\n",
    "    model.add(Activation(\"softmax\"))\n",
    "\n",
    "    # Compile model using categorial crossentropy\n",
    "    model.compile(loss='categorical_crossentropy', optimizer=SGD(lr=0.01), metrics=['accuracy'])\n",
    "    \n",
    "    current_checkpoint = 0\n",
    "    CHECKPOINT = 300\n",
    "    while nb_epoch > current_checkpoint * CHECKPOINT:\n",
    "        initial_epoch = current_checkpoint * CHECKPOINT + 1\n",
    "        next_epoch = initial_epoch + CHECKPOINT\n",
    "        print(\"Epoch: %d | Elapsed time: %.3fs\" % (initial_epoch, (time.time() - start)))\n",
    "        model.fit(X_train, Y_train, nb_epoch=next_epoch, initial_epoch=initial_epoch, batch_size=batch_size, verbose=verbose)\n",
    "        current_checkpoint += 1\n",
    "\n",
    "    print(\"Finished Training |  Elapsed time: %.3fs\" % (time.time() - start))\n",
    "    val_accuracy = model.evaluate(valid_dataset, valid_labels, verbose=verbose)[1]\n",
    "    print(\"Validation accuracy: %.2f%% |  Elapsed time: %.3fs\" % (val_accuracy * 100.0, (time.time() - start)))\n",
    "    tst_accuracy = model.evaluate(test_dataset, test_labels, verbose=verbose)[1]\n",
    "    print(\"Test accuracy: %.2f%% |  Elapsed time: %.3fs\" % (tst_accuracy * 100.0, (time.time() - start)))\n"
   ]
  },
  {
   "cell_type": "code",
   "execution_count": null,
   "metadata": {
    "collapsed": false
   },
   "outputs": [
    {
     "name": "stdout",
     "output_type": "stream",
     "text": [
      "1 hidden-layer neural network (overfit example + dropout) KERAS\n",
      "Epoch: 1 | Elapsed time: 0.136s\n"
     ]
    }
   ],
   "source": [
    "print(\"1 hidden-layer neural network (overfit example + dropout) KERAS\")\n",
    "run_ann_with_keras(batch_size, num_steps, new_train_dataset, new_train_labels, beta=0.01, verbose=0)\n"
   ]
  },
  {
   "cell_type": "code",
   "execution_count": null,
   "metadata": {
    "collapsed": false
   },
   "outputs": [
    {
     "name": "stdout",
     "output_type": "stream",
     "text": [
      "1 hidden-layer neural network (dropout + all data) KERAS\n",
      "Epoch: 1 | Elapsed time: 0.143s\n"
     ]
    }
   ],
   "source": [
    "print(\"1 hidden-layer neural network (dropout + all data) KERAS\")\n",
    "run_ann_with_keras(batch_size, num_steps, train_dataset, train_labels, beta=0.01, verbose=0)"
   ]
  },
  {
   "cell_type": "code",
   "execution_count": 69,
   "metadata": {
    "collapsed": true
   },
   "outputs": [],
   "source": [
    "def run_ann_with_keras_decay(batch_size, nb_epoch, X_train, Y_train, beta=.1, sgd_lr=.1, dropout_prob=.5, verbose=0):\n",
    "    start = time.time()\n",
    "    \n",
    "    hidden_nodes = 1024\n",
    "    image_size = 28\n",
    "    num_labels = 10\n",
    "    \n",
    "    model = Sequential()\n",
    "\n",
    "    # Input Layer\n",
    "    model.add(Dense(output_dim=1024, input_dim=image_size*image_size, W_regularizer=l2(beta)))\n",
    "    model.add(Activation(\"relu\"))\n",
    "    model.add(Dropout(dropout_prob))\n",
    "    # Hidden Layer\n",
    "    model.add(Dense(output_dim=num_labels, W_regularizer=l2(beta)))\n",
    "\n",
    "    # Output Layer\n",
    "    model.add(Activation(\"softmax\"))\n",
    "\n",
    "    # Compile model using categorial crossentropy\n",
    "    model.compile(loss='categorical_crossentropy', optimizer=SGD(lr=0.01, decay=1e-6), metrics=['accuracy'])\n",
    "    \n",
    "    current_checkpoint = 0\n",
    "    CHECKPOINT = 300\n",
    "    while nb_epoch > current_checkpoint * CHECKPOINT:\n",
    "        initial_epoch = current_checkpoint * CHECKPOINT + 1\n",
    "        next_epoch = initial_epoch + CHECKPOINT\n",
    "        print(\"Epoch: %d | Elapsed time: %.3fs\" % (initial_epoch, (time.time() - start)))\n",
    "        model.fit(X_train, Y_train, nb_epoch=next_epoch, initial_epoch=initial_epoch, batch_size=batch_size, verbose=verbose)\n",
    "        current_checkpoint += 1\n",
    "\n",
    "    print(\"Finished Training |  Elapsed time: %.3fs\" % (time.time() - start))\n",
    "    val_accuracy = model.evaluate(valid_dataset, valid_labels, verbose=verbose)[1]\n",
    "    print(\"Validation accuracy: %.2f%% |  Elapsed time: %.3fs\" % (val_accuracy * 100.0, (time.time() - start)))\n",
    "    tst_accuracy = model.evaluate(test_dataset, test_labels, verbose=verbose)[1]\n",
    "    print(\"Test accuracy: %.2f%% |  Elapsed time: %.3fs\" % (tst_accuracy * 100.0, (time.time() - start)))\n"
   ]
  },
  {
   "cell_type": "code",
   "execution_count": null,
   "metadata": {
    "collapsed": true
   },
   "outputs": [],
   "source": [
    "print(\"1 hidden-layer neural network (dropout + all data + lr_decay) KERAS\")\n",
    "run_ann_with_keras_decay(batch_size, num_steps, train_dataset, train_labels, beta=0.01, verbose=0)\n"
   ]
  },
  {
   "cell_type": "markdown",
   "metadata": {
    "collapsed": true
   },
   "source": [
    "ANSWER\n",
    "-----\n",
    "\n",
    "Overall the best results were:\n",
    "- 1 hidden-layer 784-1024-10 neural network, relu activation\n",
    "- all data\n",
    "- dropout=0.5\n",
    "- l2_loss regularization with beta=0.01\n",
    "- flat learning rate for SGD=0.1\n",
    "- epochs=6000\n",
    "- batch_size=128\n",
    "\n",
    "Results\n",
    "- Test accuracy: 92.2%\n",
    "- Validation accuracy: 85.4%\n",
    "- Train accuracy: 81.2%\n",
    "- Time to train: ~154s"
   ]
  },
  {
   "cell_type": "code",
   "execution_count": null,
   "metadata": {
    "collapsed": true
   },
   "outputs": [],
   "source": []
  }
 ],
 "metadata": {
  "anaconda-cloud": {},
  "colab": {
   "default_view": {},
   "name": "3_regularization.ipynb",
   "provenance": [],
   "version": "0.3.2",
   "views": {}
  },
  "kernelspec": {
   "display_name": "Python [default]",
   "language": "python",
   "name": "python2"
  },
  "language_info": {
   "codemirror_mode": {
    "name": "ipython",
    "version": 2
   },
   "file_extension": ".py",
   "mimetype": "text/x-python",
   "name": "python",
   "nbconvert_exporter": "python",
   "pygments_lexer": "ipython2",
   "version": "2.7.12"
  }
 },
 "nbformat": 4,
 "nbformat_minor": 0
}
